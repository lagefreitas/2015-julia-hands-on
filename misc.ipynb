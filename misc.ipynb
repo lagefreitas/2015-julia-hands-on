{
 "cells": [
  {
   "cell_type": "markdown",
   "metadata": {},
   "source": [
    "# General Info (misc)\n"
   ]
  },
  {
   "cell_type": "markdown",
   "metadata": {},
   "source": [
    "# [Files](http://julia.readthedocs.org/en/latest/stdlib/io-network/)\n",
    "\n",
    "\n",
    "# Time series\n",
    "\n",
    "* Official [TimeSeries.jl](http://timeseriesjl.readthedocs.org/en/latest/)"
   ]
  },
  {
   "cell_type": "markdown",
   "metadata": {},
   "source": [
    "# DataFrame\n",
    "\n",
    "* [DataFrames.jl](https://github.com/JuliaStats/DataFrames.jl)\n",
    "    * [DataFrame official documentation](http://dataframesjl.readthedocs.org/en/latest/)\n",
    "* Examples    \n",
    "    * [Julia By Example #DataFrame](http://samuelcolvin.github.io/JuliaByExample/#DataFrames)\n",
    "    * [Explore NYC Housing data](https://github.com/ViralBShah/JuliaConIndia2015/blob/master/NYChousing.ipynb)"
   ]
  },
  {
   "cell_type": "markdown",
   "metadata": {},
   "source": [
    "# [Running external commands](http://julia.readthedocs.org/en/latest/manual/running-external-programs/)\n",
    "\n",
    "* [Official documentation on Running external commands](http://julia.readthedocs.org/en/latest/manual/running-external-programs/)\n",
    "* [Running Shell Commands from Julia](http://blog.leahhanson.us/running-shell-commands-from-julia.html) by Leah Hanson\n",
    "* Use the `run` function:"
   ]
  },
  {
   "cell_type": "code",
   "execution_count": 1,
   "metadata": {
    "collapsed": false
   },
   "outputs": [
    {
     "name": "stdout",
     "output_type": "stream",
     "text": [
      "Andres-MacBook-Pro.local\n"
     ]
    }
   ],
   "source": [
    "command = `hostname`\n",
    "run(command)"
   ]
  },
  {
   "cell_type": "markdown",
   "metadata": {},
   "source": [
    "* `readall` allows to get the output\n",
    "* Both `run` and `readall` receives a `Cmd` type\n",
    "* To initiate a `Cmd` type, use this:"
   ]
  },
  {
   "cell_type": "code",
   "execution_count": 1,
   "metadata": {
    "collapsed": false
   },
   "outputs": [
    {
     "data": {
      "text/plain": [
       "\"Applications\\nLibrary\\nNetwork\\nSystem\\nUser Information\\nUsers\\nVolumes\\nbin\\ncores\\ndev\\netc\\nhome\\ninstaller.failurerequests\\nnet\\nopt\\nprivate\\nsbin\\ntmp\\nusr\\nvar\\n\""
      ]
     },
     "execution_count": 1,
     "metadata": {},
     "output_type": "execute_result"
    }
   ],
   "source": [
    "cmd = [\"ls\",\"-1\",\"/\"]\n",
    "readall(`\"$cmd\"`)"
   ]
  },
  {
   "cell_type": "markdown",
   "metadata": {},
   "source": [
    "* Program parameters and piping:"
   ]
  },
  {
   "cell_type": "code",
   "execution_count": 24,
   "metadata": {
    "collapsed": false
   },
   "outputs": [
    {
     "name": "stderr",
     "output_type": "stream",
     "text": [
      "WARNING: src::AbstractString |> dest::AbstractCmd is deprecated, use pipeline(src,dest) instead.\n"
     ]
    },
    {
     "name": "stdout",
     "output_type": "stream",
     "text": [
      "##\n",
      "# User Database\n",
      "# \n",
      "# Note that this file is consulted directly only when the system is running\n",
      "# in single-user mode.  At other times this information is provided by\n",
      "# Open Directory.\n",
      "#\n",
      "# See the opendirectoryd(8) man page for additional information about\n",
      "# Open Directory.\n",
      "##\n"
     ]
    },
    {
     "name": "stderr",
     "output_type": "stream",
     "text": [
      " in depwarn at deprecated.jl:73\n",
      " in |> at deprecated.jl:50\n",
      " in include_string at loading.jl:266\n",
      " in execute_request_0x535c5df2 at /Users/alage/.julia/v0.4/IJulia/src/execute_request.jl:177\n",
      " in eventloop at /Users/alage/.julia/v0.4/IJulia/src/IJulia.jl:141\n",
      " in anonymous at task.jl:447\n",
      "while loading In[24], in expression starting on line 1\n"
     ]
    }
   ],
   "source": [
    "run(\"/etc/passwd\" |> `head -n10`)"
   ]
  },
  {
   "cell_type": "markdown",
   "metadata": {},
   "source": [
    "# Assembly code\n",
    "\n",
    "* Use the `@code_native` macro:"
   ]
  },
  {
   "cell_type": "code",
   "execution_count": 18,
   "metadata": {
    "collapsed": false
   },
   "outputs": [
    {
     "name": "stderr",
     "output_type": "stream",
     "text": [
      "Warning: Unable to find ObjectFile for function\n"
     ]
    },
    {
     "ename": "LoadError",
     "evalue": "no method found for the specified argument types\nwhile loading In[18], in expression starting on line 6",
     "output_type": "error",
     "traceback": [
      "no method found for the specified argument types\nwhile loading In[18], in expression starting on line 6",
      ""
     ]
    }
   ],
   "source": [
    "function test(x)\n",
    "  for i in 1:x\n",
    "    i*x\n",
    "  end\n",
    "end\n",
    "@code_native test(2)"
   ]
  },
  {
   "cell_type": "markdown",
   "metadata": {},
   "source": [
    "# Web\n",
    "\n",
    "* [Mailing list: Backend deployment for website](https://groups.google.com/forum/#!msg/julia-users/lA614dbz7Ow/azehQFzVY0kJ)\n",
    "\n",
    "\n",
    "# Web services with Julia\n",
    "\n",
    "* [Official JuliaWeb](https://github.com/JuliaWeb)\n",
    "    * [`Julia Webstack`](http://juliawebstack.org)\n",
    "        * _The Julia Webstack is a family of modules for building web services in the Julia language._\n",
    "    * [Morsel.jl](https://github.com/JuliaWeb/Morsel.jl)\n",
    "        * _Morsel is a Sinatra-like micro framework for declaring routes and handling requests._\n",
    "    * [`Requests.jl`](https://github.com/JuliaWeb/Requests.jl)\n",
    "        * _An HTTP client written in Julia. Uses joyent/http-parser via HttpParser.jl._*       \n",
    "* [\"Escher.jl lets you build beautiful interactive Web UIs in Julia\"](https://shashi.github.io/Escher.jl/)\n",
    "* Avik Sengupta\tServing up : A practical guide to exposing Julia APIs on the web\n",
    "    * TODO-JuliaConf\n",
    "* [`JuliWebAPI.jl`](https://github.com/tanmaykm/JuliaWebAPI.jl)\n",
    "    * _Facilitates wrapping Julia functions into a remote callable API via ZMQ and HTTP._\n",
    "* [`Mux.jl`](https://github.com/one-more-minute/Mux.jl)\n",
    "    * _Mux.jl gives your Julia web services some closure. Mux allows you to define servers in terms of highly modular and composable components called middleware, with the aim of making both simple and complex servers as simple as possible to throw together._\n",
    "* [`ZMQ.jl`](https://github.com/jakebolewski/ZMQ.jl)\n",
    "    * _ZMQ.jl is a Julia interface to ZeroMQ, The Intelligent Transport Layer._*\n",
    "    * Example from [users mailing list](https://groups.google.com/forum/#!topic/julia-users/umHiBwVLQ4g):\n",
    "using ZMQ\n",
    "\n",
    "```Julia\n",
    "# Hello world server\n",
    "ctx = Context(1)\n",
    "responder = Socket(ctx, REP)\n",
    "ZMQ.bind(responder, \"tcp://*:5555\")\n",
    "while true\n",
    "  buffer = ZMQ.recv(responder)\n",
    "  println(\"Received Hello\")\n",
    "  sleep(1)\n",
    "  ZMQ.send(responder, \"World\")\n",
    "end\n",
    "```\n",
    "\n",
    "# Hadoop and Julia supports for MapReduce\n",
    "\n",
    "* The differnce is that the framework (e.g., Hadoop) automatically:\n",
    "    * assigns workers to map and to reduce jobs\n",
    "        * CloudArray does it by booking/releasing VMs on-demand\n",
    "    * Hadoop/MapReduce FT features    \n",
    "        * recover faulty workers (launch again)\n",
    "        * checkpoints the master\n",
    "        * replicates last workers to improve performance and decrease changes of the 10% last jobs be failed\n",
    "    * Julia limitations on FT\n",
    "        * [Stefan Karpinski said](https://groups.google.com/forum/#!msg/julia-users/1sNXYtIbS1Q/fCQBcLA8AQAJ) that _\"[Julia] doesn't do anything for handling machine failures, however, which was arguably the major concern of the original MapReduce design\"_\n",
    "* There is a HDFS support for Julia\n",
    "    * \" is a map-reduce framework for working with HDFS\"\n",
    "        * https://groups.google.com/forum/#!searchin/julia-users/hdfs/julia-users/yepaMYgdzSA/4oquGipKRWYJ\n",
    "    * https://github.com/JuliaParallel/HDFS.jl\n",
    "    * https://groups.google.com/forum/#!searchin/julia-users/hadoop/julia-users/MgBKsnbLvWs/TpN1dL6I1rUJ\n",
    "* Efficient data sharing between Julia and R in production\n",
    "    * https://groups.google.com/forum/#!searchin/julia-users/hdfs/julia-users/MCac2Odwr7Q/JVxtPXazr8sJ\n",
    "* TODO show Google MapReduce figure and compare\n",
    "    * User program = Julia app\n",
    "    * Master = Julia master process\n",
    "    * Workers = Julia workers\n",
    "    * Intermediate files = collections returned from `map`\n",
    "    * Output files = single results from `reduce`"
   ]
  },
  {
   "cell_type": "markdown",
   "metadata": {},
   "source": [
    "# Further materials for more on distributed computing in Julia\n",
    "\n",
    "* [Spock: An interface to Apache Spark for the Julia language](https://github.com/jey/Spock.jl)\n",
    "* [ANN node-julia 1.0.0](https://groups.google.com/forum/#!searchin/julia-users/hadoop/julia-users/xSSrQRThSJw/85YugK0IhGcJ)\n",
    "* [BigData.jl](https://github.com/davidavdav/BigData.jl)\n",
    "* Rdata\n",
    "    * https://github.com/JuliaStats/DataFrames.jl/blob/master/src/RDA.jl"
   ]
  },
  {
   "cell_type": "markdown",
   "metadata": {},
   "source": [
    "# Good Git practices\n",
    "\n",
    "\n",
    "* Raphael's links:\n",
    "    * https://www.lullabot.com/articles/git-best-practices-workflow-guidelines\n",
    "    * http://chris.beams.io/posts/git-commit/\n",
    "\n",
    "\n",
    "\n",
    "#Disclaimer\n",
    "\n",
    "* http://samuelcolvin.github.io/JuliaByExample/\n",
    "\n",
    "\n",
    "# Markdown presentation\n",
    "\n",
    "* Remark: create HTML presentations from Markdown\n",
    "    * Click [here](https://github.com/gnab/remark) to download an HTML template and input Makrkdown into it\n",
    "    * To render your Markdown-based slideshow on the fly, checkout [Remarkise](https://gnab.github.io/remark/remarkise)\n",
    "\n"
   ]
  }
 ],
 "metadata": {
  "kernelspec": {
   "display_name": "Julia 0.4.0",
   "language": "julia",
   "name": "julia-0.4"
  },
  "language_info": {
   "file_extension": ".jl",
   "mimetype": "application/julia",
   "name": "julia",
   "version": "0.4.0"
  }
 },
 "nbformat": 4,
 "nbformat_minor": 0
}
